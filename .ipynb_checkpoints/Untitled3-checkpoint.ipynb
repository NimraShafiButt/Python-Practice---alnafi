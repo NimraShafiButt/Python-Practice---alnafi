{
 "cells": [
  {
   "cell_type": "markdown",
   "metadata": {},
   "source": [
    "#functions:\n",
    "         'way to achieve modularity and reuseability'  \n",
    "           \n",
    "          module create kya jata he jis m bht sare functions hote hn or jab hme kisi function ki zaroorat hoti h to hm us        module me se us function ko call kr lete hn.\n",
    "          \n",
    "         reuse matlab kisi b code ko agr zada bar use krna ho ,function ko jitni bar b call krna chahen use call kya ja sakta h\n",
    "          "
   ]
  },
  {
   "cell_type": "markdown",
   "metadata": {},
   "source": [
    "#function bnane ka treeka:\n",
    "                          def likha jata h phr us func ka name likha jata h or phr () dal kr us me parimeters likhe jate hn"
   ]
  },
  {
   "cell_type": "markdown",
   "metadata": {},
   "source": [
    "def add (): ye paramiter less func h\n",
    "    print (15+85) \n",
    "    \n",
    "   jb func ko call kya jaye tb hi ye kam kre ga  like:\n",
    "         "
   ]
  },
  {
   "cell_type": "code",
   "execution_count": 1,
   "metadata": {},
   "outputs": [],
   "source": [
    "def add ():\n",
    "    print(15+85)"
   ]
  },
  {
   "cell_type": "code",
   "execution_count": 2,
   "metadata": {},
   "outputs": [
    {
     "name": "stdout",
     "output_type": "stream",
     "text": [
      "100\n"
     ]
    }
   ],
   "source": [
    "add()"
   ]
  },
  {
   "cell_type": "markdown",
   "metadata": {},
   "source": [
    "functions ko agr koi info deni ho to kese de ge:\n",
    "def add(a,b):  a,b is func ke perimeters kehlate hn \n",
    " ab hm is me a , b ki jagha 5 or 8 ko add krwana chahte hn "
   ]
  },
  {
   "cell_type": "code",
   "execution_count": 20,
   "metadata": {},
   "outputs": [],
   "source": [
    "def add(a,b):\n",
    "    print(a+b)"
   ]
  },
  {
   "cell_type": "code",
   "execution_count": 21,
   "metadata": {},
   "outputs": [
    {
     "ename": "SyntaxError",
     "evalue": "invalid syntax (<ipython-input-21-e16491ce9adf>, line 1)",
     "output_type": "error",
     "traceback": [
      "\u001b[1;36m  File \u001b[1;32m\"<ipython-input-21-e16491ce9adf>\"\u001b[1;36m, line \u001b[1;32m1\u001b[0m\n\u001b[1;33m    add(5,8) ye arguments kehlate hn,or inhe positional arguments b khte hn\u001b[0m\n\u001b[1;37m              ^\u001b[0m\n\u001b[1;31mSyntaxError\u001b[0m\u001b[1;31m:\u001b[0m invalid syntax\n"
     ]
    }
   ],
   "source": [
    "  \n",
    "add(5,8) ye arguments kehlate hn,or inhe positional arguments b khte hn"
   ]
  },
  {
   "cell_type": "markdown",
   "metadata": {},
   "source": [
    "#key word arguments: \n",
    "                     agr kbi tarteeb distrub b ho jaye to ye use ho te hn ,is m arguments ko position de di jati h. like:\n",
    "                     \n",
    "                   add(a=5 ,b=8)"
   ]
  },
  {
   "cell_type": "code",
   "execution_count": 24,
   "metadata": {},
   "outputs": [],
   "source": [
    "def fullname(first,middle,last):  \n",
    "       print(first+middle+last)"
   ]
  },
  {
   "cell_type": "code",
   "execution_count": 25,
   "metadata": {},
   "outputs": [
    {
     "name": "stdout",
     "output_type": "stream",
     "text": [
      "muhammadtahanaseer\n"
     ]
    }
   ],
   "source": [
    "fullname(\"muhammad\",\"taha\",\"naseer\")"
   ]
  },
  {
   "cell_type": "code",
   "execution_count": null,
   "metadata": {},
   "outputs": [],
   "source": []
  }
 ],
 "metadata": {
  "kernelspec": {
   "display_name": "Python 3",
   "language": "python",
   "name": "python3"
  },
  "language_info": {
   "codemirror_mode": {
    "name": "ipython",
    "version": 3
   },
   "file_extension": ".py",
   "mimetype": "text/x-python",
   "name": "python",
   "nbconvert_exporter": "python",
   "pygments_lexer": "ipython3",
   "version": "3.7.6"
  }
 },
 "nbformat": 4,
 "nbformat_minor": 4
}
