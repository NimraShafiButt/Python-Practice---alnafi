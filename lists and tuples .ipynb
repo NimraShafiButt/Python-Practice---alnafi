{
 "cells": [
  {
   "cell_type": "markdown",
   "metadata": {},
   "source": [
    "# lists:\n",
    "             List is a collection which is ordered and changeable. Allows duplicate members\n",
    "             \n",
    "             eg: thislist = [\"apple\", \"banana\", \"cherry\"]\n",
    "             print(thislist)"
   ]
  },
  {
   "cell_type": "markdown",
   "metadata": {},
   "source": [
    "# tuples: \n",
    "                Tuple is a collection which is ordered and unchangeable\n",
    "              \n",
    "                why to use:\n",
    "                            if u r sure ke ye change nhi krna to tuple use ki jati h.it made code safer\n",
    "                            "
   ]
  },
  {
   "cell_type": "markdown",
   "metadata": {},
   "source": [
    "## difference b/w lists and tuples:\n",
    "                        1. The elements of a list are mutable whereas the elements of a tuple are immutable.\n",
    "                       "
   ]
  }
 ],
 "metadata": {
  "kernelspec": {
   "display_name": "Python 3",
   "language": "python",
   "name": "python3"
  },
  "language_info": {
   "codemirror_mode": {
    "name": "ipython",
    "version": 3
   },
   "file_extension": ".py",
   "mimetype": "text/x-python",
   "name": "python",
   "nbconvert_exporter": "python",
   "pygments_lexer": "ipython3",
   "version": "3.7.6"
  }
 },
 "nbformat": 4,
 "nbformat_minor": 4
}
