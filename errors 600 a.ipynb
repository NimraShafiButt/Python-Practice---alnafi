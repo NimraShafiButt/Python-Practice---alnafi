{
 "cells": [
  {
   "cell_type": "markdown",
   "metadata": {},
   "source": [
    "# errors:\n",
    "            index error:\n",
    "                        raised when the sequence of subscript is out of range.\n",
    "             key error:\n",
    "                        A Python KeyError exception is what is raised when you try to access a key that isn't in a dictionary (                         dict ).\n",
    "             name error:\n",
    "                      If Python encounters a name that it doesn't recognize, you'll probably get this error.                                                      \n",
    "              syntax error:\n",
    "                            They arise when the Python parser is unable to understand a line of code                          "
   ]
  },
  {
   "cell_type": "markdown",
   "metadata": {},
   "source": [
    "# try/except:\n",
    "                      -The try block lets you test a block of code for errors. The except block lets you handle the error.\n",
    "                       \n",
    "                     -error ane se programe ruk jata h ,lakin agr hm chahte hn k program continue rhe lakin hme error msg b                           show ho to ye use hota h"
   ]
  },
  {
   "cell_type": "code",
   "execution_count": 5,
   "metadata": {},
   "outputs": [
    {
     "name": "stdout",
     "output_type": "stream",
     "text": [
      "u cant divide by 0\n"
     ]
    }
   ],
   "source": [
    "try:\n",
    "    1/0\n",
    "except ZeroDivisionError:\n",
    "    print (\"u cant divide by 0\")"
   ]
  },
  {
   "cell_type": "code",
   "execution_count": null,
   "metadata": {},
   "outputs": [],
   "source": []
  }
 ],
 "metadata": {
  "kernelspec": {
   "display_name": "Python 3",
   "language": "python",
   "name": "python3"
  },
  "language_info": {
   "codemirror_mode": {
    "name": "ipython",
    "version": 3
   },
   "file_extension": ".py",
   "mimetype": "text/x-python",
   "name": "python",
   "nbconvert_exporter": "python",
   "pygments_lexer": "ipython3",
   "version": "3.7.6"
  }
 },
 "nbformat": 4,
 "nbformat_minor": 4
}
