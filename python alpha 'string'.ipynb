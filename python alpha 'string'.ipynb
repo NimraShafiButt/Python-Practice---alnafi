{
 "cells": [
  {
   "cell_type": "markdown",
   "metadata": {},
   "source": [
    "- 2 strings ik jese ni ho sakte \n",
    "- Q ke python har str ki ik ala id banta h"
   ]
  },
  {
   "cell_type": "markdown",
   "metadata": {},
   "source": [
    "#string concatenation:\n",
    "                     'it means combining 2 strings'\n",
    "                     eg:"
   ]
  },
  {
   "cell_type": "code",
   "execution_count": 3,
   "metadata": {},
   "outputs": [
    {
     "name": "stdout",
     "output_type": "stream",
     "text": [
      "Taha naseer is a good student :)\n"
     ]
    }
   ],
   "source": [
    "string_one=\"Taha naseer is a good student\"\n",
    "string_two=\" :)\"\n",
    "string_three=string_one+string_two\n",
    "print(string_three)"
   ]
  },
  {
   "cell_type": "markdown",
   "metadata": {},
   "source": [
    "#asking 4 help in python:\n",
    "                        agr koi function yad na aa rha ho ya kisi function ki details nikalni hn to ye use krte hn.\n",
    "                        \n",
    "                        eg\n",
    "                       help (string_one.upper)"
   ]
  },
  {
   "cell_type": "code",
   "execution_count": null,
   "metadata": {},
   "outputs": [],
   "source": []
  }
 ],
 "metadata": {
  "kernelspec": {
   "display_name": "Python 3",
   "language": "python",
   "name": "python3"
  },
  "language_info": {
   "codemirror_mode": {
    "name": "ipython",
    "version": 3
   },
   "file_extension": ".py",
   "mimetype": "text/x-python",
   "name": "python",
   "nbconvert_exporter": "python",
   "pygments_lexer": "ipython3",
   "version": "3.7.6"
  }
 },
 "nbformat": 4,
 "nbformat_minor": 4
}
