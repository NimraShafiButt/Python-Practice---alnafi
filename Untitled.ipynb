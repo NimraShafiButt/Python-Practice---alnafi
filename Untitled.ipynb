{
 "cells": [
  {
   "cell_type": "markdown",
   "metadata": {},
   "source": [
    "# list:\n",
    "          A list is a data structure in Python that is a mutable, or changeable, ordered sequence of elements.\n",
    "          \n",
    "          list is defined by having elements btw square or round brackets.[],()\n",
    "          "
   ]
  },
  {
   "cell_type": "markdown",
   "metadata": {},
   "source": [
    "## combining two lists:\n",
    "                              agr list 1 or list 2 do lists hn to hm unhe + ke sath combine kr sakte hn\n",
    "                              eg:\n",
    "                             "
   ]
  },
  {
   "cell_type": "code",
   "execution_count": 5,
   "metadata": {},
   "outputs": [
    {
     "data": {
      "text/plain": [
       "['T', 'a', 'h', 'a', 'N', 'a', 's', 'e', 'e', 'r']"
      ]
     },
     "execution_count": 5,
     "metadata": {},
     "output_type": "execute_result"
    }
   ],
   "source": [
    "my_list1=[\"T\",\"a\",\"h\",\"a\"]\n",
    "my_list2=[\"N\",\"a\",\"s\",\"e\",\"e\",\"r\"]\n",
    "comb_list=my_list1+my_list2\n",
    "comb_list"
   ]
  },
  {
   "cell_type": "markdown",
   "metadata": {},
   "source": [
    "### sorting out a list:\n",
    "                        .sort() use hota list sorting ke lye matlb list is me apni tarteeb bna leti h \n",
    "                        ye jab results wghaira file krne hote hn to bht use hota h\n",
    "                        "
   ]
  }
 ],
 "metadata": {
  "kernelspec": {
   "display_name": "Python 3",
   "language": "python",
   "name": "python3"
  },
  "language_info": {
   "codemirror_mode": {
    "name": "ipython",
    "version": 3
   },
   "file_extension": ".py",
   "mimetype": "text/x-python",
   "name": "python",
   "nbconvert_exporter": "python",
   "pygments_lexer": "ipython3",
   "version": "3.7.6"
  }
 },
 "nbformat": 4,
 "nbformat_minor": 4
}
